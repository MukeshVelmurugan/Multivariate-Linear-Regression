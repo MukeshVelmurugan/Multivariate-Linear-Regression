{
 "cells": [
  {
   "cell_type": "code",
   "execution_count": 1,
   "id": "4cdcc320-3a58-4024-87b3-81c301a023df",
   "metadata": {},
   "outputs": [
    {
     "name": "stdout",
     "output_type": "stream",
     "text": [
      "Coefficients: [0.00755095 0.00780526]\n",
      "Intercept: 79.69471929115939\n",
      "Predicted CO2 for the corresponding weight and volume [114.75968007]\n"
     ]
    },
    {
     "name": "stderr",
     "output_type": "stream",
     "text": [
      "C:\\Users\\SEC\\anaconda3\\lib\\site-packages\\sklearn\\base.py:450: UserWarning: X does not have valid feature names, but LinearRegression was fitted with feature names\n",
      "  warnings.warn(\n"
     ]
    }
   ],
   "source": [
    "\n",
    "\n",
    "## Developed by: MUKESH V\n",
    "## Reg.No: 22008323\n",
    "import pandas as pd\n",
    "from sklearn import linear_model\n",
    "df = pd.read_csv(\"cars.csv\")\n",
    "x = df[['Weight', 'Volume']]\n",
    "y = df['CO2']\n",
    "\n",
    "regr = linear_model.LinearRegression()\n",
    "regr.fit(x, y)\n",
    "\n",
    "print('Coefficients:', regr.coef_)\n",
    "print('Intercept:',regr.intercept_)\n",
    "\n",
    "predictedCO2 = regr.predict([[3300, 1300]])\n",
    "print('Predicted CO2 for the corresponding weight and volume',predictedCO2)\n"
   ]
  },
  {
   "cell_type": "code",
   "execution_count": null,
   "id": "dae66015-b6af-498c-976f-4a8fac56b489",
   "metadata": {},
   "outputs": [],
   "source": []
  }
 ],
 "metadata": {
  "kernelspec": {
   "display_name": "Python 3 (ipykernel)",
   "language": "python",
   "name": "python3"
  },
  "language_info": {
   "codemirror_mode": {
    "name": "ipython",
    "version": 3
   },
   "file_extension": ".py",
   "mimetype": "text/x-python",
   "name": "python",
   "nbconvert_exporter": "python",
   "pygments_lexer": "ipython3",
   "version": "3.9.13"
  }
 },
 "nbformat": 4,
 "nbformat_minor": 5
}
